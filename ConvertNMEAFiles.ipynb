{
 "cells": [
  {
   "cell_type": "markdown",
   "id": "f3f513df",
   "metadata": {},
   "source": [
    "# Convert NMEA GPS Files from OM System App GPS tagging on SD Cards to GPX\n",
    "\n",
    "This takes a folder of files in NMEA GPS format to GPX. It will search for files with the extension \".LOG\". This files are typically \n",
    "obtained from the OM System camera SD card after the OM Share App has been used to GPS tag files on the card.\n",
    "\n",
    "## How to use\n",
    "- Set the file folder path and / or run the folder path section and choose with the file browser\n",
    "- Run the processing section and wait for completion\n",
    "- GPX files will be created in the same folder as the LOG files"
   ]
  },
  {
   "cell_type": "markdown",
   "id": "7e6b6619",
   "metadata": {},
   "source": [
    "## Set or Choose Folder Path\n",
    "\n",
    "Run this block to choose a path via the browse button, or set it directly.\n",
    "\n",
    "Note: Processing will create sub-folders in the path where the WAV files reside and move the files around. Keep a master / backup copy!"
   ]
  },
  {
   "cell_type": "code",
   "execution_count": null,
   "id": "06f4d61e",
   "metadata": {
    "tags": []
   },
   "outputs": [],
   "source": [
    "# Shared code\n",
    "from utilities import *\n",
    "\n",
    "# ** Set path to files folder here **\n",
    "path = '/Users/bill/Develop/NMEAToGPXConverter/test/'\n",
    "\n",
    "# Browse for path \n",
    "file_dialog = browse_for_path(path)"
   ]
  },
  {
   "cell_type": "markdown",
   "id": "70cebe93",
   "metadata": {},
   "source": [
    "## File Processing\n",
    "\n",
    "Main processing script to process all AudioMoth files. Execute this after setting up classifcaton config and the file path."
   ]
  },
  {
   "cell_type": "code",
   "execution_count": null,
   "id": "9206dcc3-a249-4de0-bdb4-803402fbe77b",
   "metadata": {
    "tags": []
   },
   "outputs": [],
   "source": [
    "# Main processing script...\n",
    "import os\n",
    "import fnmatch\n",
    "\n",
    "# Shared code\n",
    "from utilities import *\n",
    "\n",
    "# Update path from dialog\n",
    "path = file_dialog.selected\n",
    "\n",
    "# Get the files to prcess\n",
    "files = find_and_sort_files_on_path(path)\n",
    "\n",
    "# Iterate all the found LOG files in the directory\n",
    "for index, singfile in enumerate(files):\n",
    "         \n",
    "    # Full path to the file\n",
    "    file_full_path = os.path.join(path, singfile)\n",
    "\n",
    "    # Convert it\n",
    "    convert_nmea_to_gpx(file_full_path)\n",
    "# End of processing  \n",
    "print(\"** Finished **\")\n",
    "        \n",
    "        "
   ]
  },
  {
   "cell_type": "markdown",
   "id": "57cb89d7",
   "metadata": {},
   "source": [
    "## Combine GPX files\n",
    "\n",
    "Edit and run the below to combined any GPX files"
   ]
  },
  {
   "cell_type": "code",
   "execution_count": null,
   "id": "b63a62a5",
   "metadata": {},
   "outputs": [],
   "source": [
    "# Shared code\n",
    "from utilities import *\n",
    "\n",
    "gpx_files = [\n",
    "    \"/Users/bill/Develop/NMEAToGPXConverter/test/25070701.gpx\",\n",
    "    \"/Users/bill/Develop/NMEAToGPXConverter/test/25070801.gpx\",\n",
    "    \"/Users/bill/Develop/NMEAToGPXConverter/test/25070901.gpx\",\n",
    "    \"/Users/bill/Develop/NMEAToGPXConverter/test/25071001.gpx\",\n",
    "    \"/Users/bill/Develop/NMEAToGPXConverter/test/25071101.gpx\",\n",
    "    \"/Users/bill/Develop/NMEAToGPXConverter/test/25071201.gpx\",\n",
    "    \"/Users/bill/Develop/NMEAToGPXConverter/test/25071301.gpx\",\n",
    "    \"/Users/bill/Develop/NMEAToGPXConverter/test/25071302.gpx\"\n",
    "]\n",
    "combine_gpx_files(gpx_files, \"/Users/bill/Develop/NMEAToGPXConverter/test/25071300-Combined-Trip.gpx\")"
   ]
  },
  {
   "cell_type": "code",
   "execution_count": null,
   "id": "c1e5dc5f-2d78-4209-aa50-328998d99680",
   "metadata": {},
   "outputs": [],
   "source": []
  },
  {
   "cell_type": "code",
   "execution_count": null,
   "id": "27d2013d-f97c-4937-a431-1754d454aa1f",
   "metadata": {},
   "outputs": [],
   "source": []
  }
 ],
 "metadata": {
  "kernelspec": {
   "display_name": "Python 3 (ipykernel)",
   "language": "python",
   "name": "python3"
  },
  "language_info": {
   "codemirror_mode": {
    "name": "ipython",
    "version": 3
   },
   "file_extension": ".py",
   "mimetype": "text/x-python",
   "name": "python",
   "nbconvert_exporter": "python",
   "pygments_lexer": "ipython3",
   "version": "3.13.2"
  },
  "toc-autonumbering": true
 },
 "nbformat": 4,
 "nbformat_minor": 5
}
